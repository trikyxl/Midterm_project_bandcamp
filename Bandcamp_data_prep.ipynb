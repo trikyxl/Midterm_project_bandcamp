{
 "cells": [
  {
   "cell_type": "code",
   "execution_count": 1,
   "id": "6de8621d",
   "metadata": {},
   "outputs": [],
   "source": [
    "#!pip install dataprep -q\n"
   ]
  },
  {
   "cell_type": "code",
   "execution_count": 2,
   "id": "b300f600",
   "metadata": {},
   "outputs": [],
   "source": [
    "import pandas as pd\n"
   ]
  },
  {
   "cell_type": "code",
   "execution_count": 3,
   "id": "46984a75",
   "metadata": {},
   "outputs": [],
   "source": [
    "df=pd.read_csv('Data/1000000-bandcamp-sales.csv')"
   ]
  },
  {
   "cell_type": "code",
   "execution_count": 4,
   "id": "d09b4e91",
   "metadata": {},
   "outputs": [],
   "source": [
    "# from dataprep.eda import plot, plot_correlation, create_report, plot_missing\n"
   ]
  },
  {
   "cell_type": "code",
   "execution_count": 5,
   "id": "a84ad5bc",
   "metadata": {},
   "outputs": [],
   "source": [
    "# plot(df)"
   ]
  },
  {
   "cell_type": "code",
   "execution_count": 6,
   "id": "563607a2",
   "metadata": {},
   "outputs": [],
   "source": [
    "#create_report(df)"
   ]
  },
  {
   "cell_type": "code",
   "execution_count": 7,
   "id": "80201d5a",
   "metadata": {},
   "outputs": [
    {
     "name": "stdout",
     "output_type": "stream",
     "text": [
      "<class 'pandas.core.frame.DataFrame'>\n",
      "RangeIndex: 1000000 entries, 0 to 999999\n",
      "Data columns (total 23 columns):\n",
      " #   Column                 Non-Null Count    Dtype  \n",
      "---  ------                 --------------    -----  \n",
      " 0   _id                    1000000 non-null  object \n",
      " 1   art_url                1000000 non-null  object \n",
      " 2   item_type              1000000 non-null  object \n",
      " 3   utc_date               1000000 non-null  float64\n",
      " 4   country_code           1000000 non-null  object \n",
      " 5   track_album_slug_text  2237 non-null     object \n",
      " 6   country                1000000 non-null  object \n",
      " 7   slug_type              988416 non-null   object \n",
      " 8   amount_paid_fmt        1000000 non-null  object \n",
      " 9   item_price             1000000 non-null  float64\n",
      " 10  item_description       999994 non-null   object \n",
      " 11  art_id                 764520 non-null   float64\n",
      " 12  url                    1000000 non-null  object \n",
      " 13  amount_paid            1000000 non-null  float64\n",
      " 14  releases               11584 non-null    float64\n",
      " 15  artist_name            999998 non-null   object \n",
      " 16  currency               1000000 non-null  object \n",
      " 17  album_title            356468 non-null   object \n",
      " 18  amount_paid_usd        1000000 non-null  float64\n",
      " 19  package_image_id       232708 non-null   float64\n",
      " 20  amount_over_fmt        119133 non-null   object \n",
      " 21  item_slug              21742 non-null    object \n",
      " 22  addl_count             21742 non-null    float64\n",
      "dtypes: float64(8), object(15)\n",
      "memory usage: 175.5+ MB\n"
     ]
    }
   ],
   "source": [
    "df.info()"
   ]
  },
  {
   "cell_type": "code",
   "execution_count": 8,
   "id": "274c3d94",
   "metadata": {},
   "outputs": [],
   "source": [
    "columns_to_drop = ['art_url', 'track_album_slug_text', 'country_code', 'slug_type', 'art_id', 'amount_paid_fmt', 'releases','package_image_id', 'item_slug', 'addl_count']\n",
    "df_clean = df.drop(columns_to_drop, axis = 1)\n"
   ]
  },
  {
   "cell_type": "code",
   "execution_count": 9,
   "id": "e4323c94",
   "metadata": {},
   "outputs": [
    {
     "name": "stdout",
     "output_type": "stream",
     "text": [
      "<class 'pandas.core.frame.DataFrame'>\n",
      "RangeIndex: 1000000 entries, 0 to 999999\n",
      "Data columns (total 13 columns):\n",
      " #   Column            Non-Null Count    Dtype  \n",
      "---  ------            --------------    -----  \n",
      " 0   _id               1000000 non-null  object \n",
      " 1   item_type         1000000 non-null  object \n",
      " 2   utc_date          1000000 non-null  float64\n",
      " 3   country           1000000 non-null  object \n",
      " 4   item_price        1000000 non-null  float64\n",
      " 5   item_description  999994 non-null   object \n",
      " 6   url               1000000 non-null  object \n",
      " 7   amount_paid       1000000 non-null  float64\n",
      " 8   artist_name       999998 non-null   object \n",
      " 9   currency          1000000 non-null  object \n",
      " 10  album_title       356468 non-null   object \n",
      " 11  amount_paid_usd   1000000 non-null  float64\n",
      " 12  amount_over_fmt   119133 non-null   object \n",
      "dtypes: float64(4), object(9)\n",
      "memory usage: 99.2+ MB\n"
     ]
    }
   ],
   "source": [
    "df_clean.info()"
   ]
  },
  {
   "cell_type": "code",
   "execution_count": 10,
   "id": "c3add0b4",
   "metadata": {},
   "outputs": [],
   "source": [
    "df_clean.amount_over_fmt = df_clean.amount_over_fmt.str.strip() #removing extra spaces"
   ]
  },
  {
   "cell_type": "code",
   "execution_count": 11,
   "id": "82fed67a",
   "metadata": {},
   "outputs": [],
   "source": [
    "df_clean.amount_over_fmt = df.amount_over_fmt.str[1:] #removing currency type"
   ]
  },
  {
   "cell_type": "code",
   "execution_count": 12,
   "id": "2b91b4ce",
   "metadata": {},
   "outputs": [],
   "source": [
    "df_clean.amount_over_fmt = df_clean.amount_over_fmt.str.replace(',', '') #removing the comma that indicates thousands"
   ]
  },
  {
   "cell_type": "code",
   "execution_count": 13,
   "id": "c5af31bc",
   "metadata": {},
   "outputs": [],
   "source": [
    "df_clean.amount_over_fmt = df_clean.amount_over_fmt.replace('', 0)"
   ]
  },
  {
   "cell_type": "code",
   "execution_count": 14,
   "id": "2681544f",
   "metadata": {},
   "outputs": [],
   "source": [
    "df_clean.amount_over_fmt = df_clean.amount_over_fmt.fillna(0) #filling Nan with 0s"
   ]
  },
  {
   "cell_type": "code",
   "execution_count": 15,
   "id": "2b07e72f",
   "metadata": {},
   "outputs": [],
   "source": [
    "df_clean.amount_over_fmt = df_clean.amount_over_fmt.astype(float)"
   ]
  },
  {
   "cell_type": "code",
   "execution_count": 16,
   "id": "771c8d9c",
   "metadata": {},
   "outputs": [
    {
     "name": "stdout",
     "output_type": "stream",
     "text": [
      "<class 'pandas.core.frame.DataFrame'>\n",
      "RangeIndex: 1000000 entries, 0 to 999999\n",
      "Data columns (total 13 columns):\n",
      " #   Column            Non-Null Count    Dtype  \n",
      "---  ------            --------------    -----  \n",
      " 0   _id               1000000 non-null  object \n",
      " 1   item_type         1000000 non-null  object \n",
      " 2   utc_date          1000000 non-null  float64\n",
      " 3   country           1000000 non-null  object \n",
      " 4   item_price        1000000 non-null  float64\n",
      " 5   item_description  999994 non-null   object \n",
      " 6   url               1000000 non-null  object \n",
      " 7   amount_paid       1000000 non-null  float64\n",
      " 8   artist_name       999998 non-null   object \n",
      " 9   currency          1000000 non-null  object \n",
      " 10  album_title       356468 non-null   object \n",
      " 11  amount_paid_usd   1000000 non-null  float64\n",
      " 12  amount_over_fmt   1000000 non-null  float64\n",
      "dtypes: float64(5), object(8)\n",
      "memory usage: 99.2+ MB\n"
     ]
    }
   ],
   "source": [
    "df_clean.info()"
   ]
  },
  {
   "cell_type": "code",
   "execution_count": 17,
   "id": "3f1f8b00",
   "metadata": {},
   "outputs": [],
   "source": [
    "import datetime\n",
    "\n",
    "df_clean['utc_date'] = df_clean['utc_date'].apply(lambda x: datetime.datetime.fromtimestamp(x).strftime('%Y-%m-%d %H:%M:%S'))\n"
   ]
  },
  {
   "cell_type": "code",
   "execution_count": 21,
   "id": "4f75e2cd",
   "metadata": {},
   "outputs": [
    {
     "data": {
      "text/plain": [
       "0         2020-09-10 00:00:03\n",
       "1         2020-09-10 00:00:05\n",
       "2         2020-09-10 00:00:05\n",
       "3         2020-09-10 00:00:06\n",
       "4         2020-09-10 00:00:09\n",
       "                 ...         \n",
       "999995    2020-10-02 16:03:29\n",
       "999996    2020-10-02 16:03:29\n",
       "999997    2020-10-02 16:03:29\n",
       "999998    2020-10-02 16:03:29\n",
       "999999    2020-10-02 16:03:30\n",
       "Name: utc_date, Length: 1000000, dtype: object"
      ]
     },
     "execution_count": 21,
     "metadata": {},
     "output_type": "execute_result"
    }
   ],
   "source": [
    "df_clean['utc_date']"
   ]
  },
  {
   "cell_type": "code",
   "execution_count": 20,
   "id": "f587c511",
   "metadata": {},
   "outputs": [],
   "source": [
    "df_clean.to_csv('Data/1000000-bandcamp-sales_cleaned.csv', index=False)"
   ]
  },
  {
   "cell_type": "code",
   "execution_count": null,
   "id": "fa57fb10",
   "metadata": {},
   "outputs": [],
   "source": []
  }
 ],
 "metadata": {
  "kernelspec": {
   "display_name": "Python 3 (ipykernel)",
   "language": "python",
   "name": "python3"
  },
  "language_info": {
   "codemirror_mode": {
    "name": "ipython",
    "version": 3
   },
   "file_extension": ".py",
   "mimetype": "text/x-python",
   "name": "python",
   "nbconvert_exporter": "python",
   "pygments_lexer": "ipython3",
   "version": "3.9.13"
  }
 },
 "nbformat": 4,
 "nbformat_minor": 5
}
